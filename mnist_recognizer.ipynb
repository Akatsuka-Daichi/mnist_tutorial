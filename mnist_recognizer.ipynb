{
  "nbformat": 4,
  "nbformat_minor": 5,
  "metadata": {
    "kernelspec": {
      "display_name": "Python 3",
      "language": "python",
      "name": "python3"
    },
    "language_info": {
      "codemirror_mode": {
        "name": "ipython",
        "version": 3
      },
      "file_extension": ".py",
      "mimetype": "text/x-python",
      "name": "python",
      "nbconvert_exporter": "python",
      "pygments_lexer": "ipython3",
      "version": "3.8.10"
    },
    "colab": {
      "name": "mnist_recognizer.ipynb",
      "provenance": [],
      "collapsed_sections": []
    },
    "accelerator": "GPU"
  },
  "cells": [
    {
      "cell_type": "code",
      "metadata": {
        "id": "71628de8-6e56-42fd-ab40-a371e23d0a0a"
      },
      "source": [
        "%matplotlib inline\n",
        " \n",
        "import matplotlib.pyplot as plt\n",
        "import torch\n",
        "import torch.nn as nn\n",
        "import torch.nn.functional as F\n",
        "import torch.optim as optim\n",
        "from torch.utils.data import DataLoader\n",
        "import torchvision\n",
        "import torchvision.transforms as transforms\n",
        "import numpy as np\n",
        "import random\n",
        "from IPython.display import Image\n"
      ],
      "id": "71628de8-6e56-42fd-ab40-a371e23d0a0a",
      "execution_count": 40,
      "outputs": []
    },
    {
      "cell_type": "code",
      "metadata": {
        "id": "698e8dd5-d1c0-46da-b2cc-a8f56f9eedf1"
      },
      "source": [
        "EPOCHS = 1\n",
        "BATCH_SIZE = 100\n",
        "LEARNING_RATE = 0.0005"
      ],
      "id": "698e8dd5-d1c0-46da-b2cc-a8f56f9eedf1",
      "execution_count": 41,
      "outputs": []
    },
    {
      "cell_type": "code",
      "metadata": {
        "id": "f63d5107-f49d-4a33-8931-c6f654ab8138"
      },
      "source": [
        "class Net(nn.Module):\n",
        "    def __init__(self):\n",
        "        super(Net, self).__init__()\n",
        "        self.conv1 = nn.Conv2d(1, 32, 3) # 28x28x32 -> 26x26x32\n",
        "        self.conv2 = nn.Conv2d(32, 64, 3) # 26x26x64 -> 24x24x64 \n",
        "        self.pool = nn.MaxPool2d(2, 2) # 24x24x64 -> 12x12x64\n",
        "        self.dropout1 = nn.Dropout2d()\n",
        "        self.fc1 = nn.Linear(12 * 12 * 64, 128)\n",
        "        self.dropout2 = nn.Dropout2d()\n",
        "        self.fc2 = nn.Linear(128, 10)\n",
        "\n",
        "    def forward(self, x):\n",
        "        x = F.relu(self.conv1(x))\n",
        "        x = self.pool(F.relu(self.conv2(x)))\n",
        "        x = self.dropout1(x)\n",
        "        x = x.view(-1, 12 * 12 * 64)\n",
        "        x = self.fc1(x)\n",
        "        x = F.relu(x)\n",
        "        x = self.dropout2(x)\n",
        "        x = self.fc2(x)\n",
        "        return x"
      ],
      "id": "f63d5107-f49d-4a33-8931-c6f654ab8138",
      "execution_count": 42,
      "outputs": []
    },
    {
      "cell_type": "code",
      "metadata": {
        "id": "3cd9a3ef-6fe4-4fbc-b810-b0a4f0d27b99"
      },
      "source": [
        "transform = transforms.Compose(\n",
        "    [transforms.ToTensor(),\n",
        "     transforms.Normalize((0.5, ), (0.5, ))])\n",
        "trainset = torchvision.datasets.MNIST(root='./data', \n",
        "                                        train=True,\n",
        "                                        download=True,\n",
        "                                        transform=transform)\n",
        "trainloader = torch.utils.data.DataLoader(trainset,\n",
        "                                            batch_size=BATCH_SIZE,\n",
        "                                            shuffle=True,\n",
        "                                            num_workers=2)\n",
        "\n",
        "testset = torchvision.datasets.MNIST(root='./data', \n",
        "                                        train=False, \n",
        "                                        download=True, \n",
        "                                        transform=transform)\n",
        "testloader = torch.utils.data.DataLoader(testset, \n",
        "                                            batch_size=BATCH_SIZE,\n",
        "                                            shuffle=False, \n",
        "                                            num_workers=2)\n",
        "\n",
        "classes = tuple(np.linspace(0, 9, 10, dtype=np.uint8))"
      ],
      "id": "3cd9a3ef-6fe4-4fbc-b810-b0a4f0d27b99",
      "execution_count": 43,
      "outputs": []
    },
    {
      "cell_type": "code",
      "metadata": {
        "id": "506f95a2-7454-40b3-9487-9a929a0dd7fd"
      },
      "source": [
        "net = Net()\n",
        "device = torch.device(\"cuda\")\n",
        "net = net.to(device)\n",
        "criterion = nn.CrossEntropyLoss()\n",
        "optimizer = optim.SGD(net.parameters(),\n",
        "                      lr=LEARNING_RATE, momentum=0.99, nesterov=True)"
      ],
      "id": "506f95a2-7454-40b3-9487-9a929a0dd7fd",
      "execution_count": 44,
      "outputs": []
    },
    {
      "cell_type": "code",
      "metadata": {
        "colab": {
          "base_uri": "https://localhost:8080/"
        },
        "id": "0c9a3bda-56ee-45d4-afb5-9d859a959fe1",
        "outputId": "232e61c9-9e36-493c-cc19-7538591dc0a1"
      },
      "source": [
        "for epoch in range(EPOCHS):\n",
        "    print(\"+++ epoch {:d} +++\".format(epoch))\n",
        "    running_loss = 0.0\n",
        "    for i, (inputs, labels) in enumerate(trainloader, 0):\n",
        "        inputs, labels = inputs.to(device), labels.to(device)\n",
        "        # zero the parameter gradients\n",
        "        optimizer.zero_grad()\n",
        "\n",
        "        # forward + backward + optimize\n",
        "        outputs = net(inputs)\n",
        "        loss = criterion(outputs, labels)\n",
        "        loss.backward()\n",
        "        optimizer.step()\n",
        "\n",
        "        # print statistics\n",
        "        running_loss += loss.item()\n",
        "        if i % 100 == 99:\n",
        "            print(\"   iteration{:5d} ---> loss: {:.3f}\"\n",
        "                  .format(i+1, running_loss/100))\n",
        "            running_loss = 0.0\n",
        "    print(\"\")\n",
        "print('Finished Training')"
      ],
      "id": "0c9a3bda-56ee-45d4-afb5-9d859a959fe1",
      "execution_count": null,
      "outputs": [
        {
          "output_type": "stream",
          "text": [
            "+++ epoch 0 +++\n",
            "   iteration  100 ---> loss: 2.116\n",
            "   iteration  200 ---> loss: 0.928\n",
            "   iteration  300 ---> loss: 0.552\n",
            "   iteration  400 ---> loss: 0.433\n",
            "   iteration  500 ---> loss: 0.373\n",
            "   iteration  600 ---> loss: 0.350\n",
            "\n",
            "Finished Training\n"
          ],
          "name": "stdout"
        }
      ]
    },
    {
      "cell_type": "code",
      "metadata": {
        "id": "6d13fd12-796e-452e-b1ee-25998a834248",
        "colab": {
          "base_uri": "https://localhost:8080/",
          "height": 299
        },
        "outputId": "2e37ed8d-9c0b-4e37-ad82-f94b04f13f3f"
      },
      "source": [
        "index = random.randint(0, 99)\n",
        "test_iter = iter(testloader)\n",
        "inputs, labels = test_iter.next()\n",
        "inputs = inputs.to(device)\n",
        "outputs = net(inputs)\n",
        "_, predicted = torch.max(outputs.data, 1)\n",
        "plt.imshow(inputs[index].to('cpu').detach().numpy().copy().reshape(28, 28), cmap='gray')\n",
        "print(\"Predicted Label : \", predicted[index].item())\n",
        "print(\"GT Label : \", labels[index].item())\n"
      ],
      "id": "6d13fd12-796e-452e-b1ee-25998a834248",
      "execution_count": 56,
      "outputs": [
        {
          "output_type": "stream",
          "text": [
            "Predicted Label :  7\n",
            "GT Label :  7\n"
          ],
          "name": "stdout"
        },
        {
          "output_type": "display_data",
          "data": {
            "image/png": "[encoded data removed]",
            "text/plain": [
              "<Figure size 432x288 with 1 Axes>"
            ]
          },
          "metadata": {
            "tags": [],
            "needs_background": "light"
          }
        }
      ]
    }
  ]
}