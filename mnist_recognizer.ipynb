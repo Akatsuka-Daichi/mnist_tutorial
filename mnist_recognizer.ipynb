{
  "nbformat": 4,
  "nbformat_minor": 5,
  "metadata": {
    "kernelspec": {
      "display_name": "Python 3",
      "language": "python",
      "name": "python3"
    },
    "language_info": {
      "codemirror_mode": {
        "name": "ipython",
        "version": 3
      },
      "file_extension": ".py",
      "mimetype": "text/x-python",
      "name": "python",
      "nbconvert_exporter": "python",
      "pygments_lexer": "ipython3",
      "version": "3.8.10"
    },
    "colab": {
      "name": "mnist_recognizer.ipynb",
      "provenance": [],
      "collapsed_sections": []
    },
    "accelerator": "GPU"
  },
  "cells": [
    {
      "cell_type": "code",
      "metadata": {
        "id": "71628de8-6e56-42fd-ab40-a371e23d0a0a"
      },
      "source": [
        "%matplotlib inline\n",
        " \n",
        "# ライブラリのインポート\n",
        "import matplotlib.pyplot as plt\n",
        "import torch\n",
        "import torch.nn as nn\n",
        "import torch.nn.functional as F\n",
        "import torch.optim as optim\n",
        "from torch.utils.data import DataLoader\n",
        "import torchvision\n",
        "import torchvision.transforms as transforms\n",
        "import numpy as np\n",
        "import random\n",
        "from IPython.display import Image\n"
      ],
      "id": "71628de8-6e56-42fd-ab40-a371e23d0a0a",
      "execution_count": 130,
      "outputs": []
    },
    {
      "cell_type": "code",
      "metadata": {
        "id": "698e8dd5-d1c0-46da-b2cc-a8f56f9eedf1"
      },
      "source": [
        "# ハイパーパラメータの設定\n",
        "EPOCHS = 5 # エポック数\n",
        "BATCH_SIZE = 100 # バッチサイズ\n",
        "LEARNING_RATE = 0.0005 # 学習率"
      ],
      "id": "698e8dd5-d1c0-46da-b2cc-a8f56f9eedf1",
      "execution_count": 131,
      "outputs": []
    },
    {
      "cell_type": "code",
      "metadata": {
        "id": "3cd9a3ef-6fe4-4fbc-b810-b0a4f0d27b99"
      },
      "source": [
        "# データセットの用意\n",
        "# transformはデータセットに対する前処理を表す\n",
        "transform = transforms.Compose(\n",
        "    [transforms.ToTensor(), transforms.Normalize((0.5, ), (0.5, ))])\n",
        "\n",
        "# datasetsは実際のデータセットを表す\n",
        "# ここではmnistを利用、手元にない場合は自動的にダウンロードする\n",
        "# またtransformをここでセットする\n",
        "# 学習データ用とテストデータ用を２つ用意する\n",
        "trainset = torchvision.datasets.MNIST(\n",
        "    root='./data', train=True, download=True, transform=transform)\n",
        "testset = torchvision.datasets.MNIST(\n",
        "    root='./data', train=False, download=True, transform=transform)\n",
        "\n",
        "# DataLoaderはデータセットをバッチサイズごとに利用するためのもの\n",
        "# datasetsをここでセットする\n",
        "# 学習データ用とテストデータ用を２つ用意する\n",
        "trainloader = torch.utils.data.DataLoader(\n",
        "    trainset, batch_size=BATCH_SIZE, shuffle=True, num_workers=2)\n",
        "testloader = torch.utils.data.DataLoader(\n",
        "    testset, batch_size=BATCH_SIZE, shuffle=False, num_workers=2)"
      ],
      "id": "3cd9a3ef-6fe4-4fbc-b810-b0a4f0d27b99",
      "execution_count": 133,
      "outputs": []
    },
    {
      "cell_type": "code",
      "metadata": {
        "id": "f63d5107-f49d-4a33-8931-c6f654ab8138"
      },
      "source": [
        "# ネットワークアーキテクチャの構築\n",
        "class Net(nn.Module):\n",
        "    # ここで各層の名前を定義\n",
        "    def __init__(self):\n",
        "        super(Net, self).__init__()\n",
        "        # 畳み込み層１\n",
        "        self.conv1 = nn.Conv2d(1, 32, 3) # 28x28x32 -> 26x26x32\n",
        "        # 畳み込み層２\n",
        "        self.conv2 = nn.Conv2d(32, 64, 3) # 26x26x64 -> 24x24x64 \n",
        "        # プーリング層\n",
        "        self.pool = nn.MaxPool2d(2, 2) # 24x24x64 -> 12x12x64\n",
        "        # ドロップアウト層１\n",
        "        self.dropout1 = nn.Dropout2d()\n",
        "        # 全結合層１\n",
        "        self.fc1 = nn.Linear(12 * 12 * 64, 128)\n",
        "        # ドロップアウト層２\n",
        "        self.dropout2 = nn.Dropout2d()\n",
        "        # 全結合層２\n",
        "        self.fc2 = nn.Linear(128, 10)\n",
        "\n",
        "    # 層同士の接続を定義\n",
        "    def forward(self, x):\n",
        "        # 入力は28x28(画像サイズが28px*28pxなので)\n",
        "        x = self.conv1(x)\n",
        "        x = F.relu(x) # 活性化関数を挿入する（ここではReLU関数を使用）\n",
        "        x = self.conv2(x)\n",
        "        x = F.relu(x) # 活性化関数を挿入する（ここではReLU関数を使用）\n",
        "        x = self.pool(x)\n",
        "        x = self.dropout1(x)\n",
        "        x = x.view(-1, 12 * 12 * 64) #　ここで行列をベクトル化（全結合層に入力するため）\n",
        "        x = self.fc1(x)\n",
        "        x = F.relu(x) # 活性化関数を挿入する（ここではReLU関数を使用）\n",
        "        x = self.dropout2(x)\n",
        "        x = self.fc2(x)\n",
        "        # 出力は10次元（10種類の数字なので）\n",
        "        return x"
      ],
      "id": "f63d5107-f49d-4a33-8931-c6f654ab8138",
      "execution_count": 132,
      "outputs": []
    },
    {
      "cell_type": "code",
      "metadata": {
        "id": "506f95a2-7454-40b3-9487-9a929a0dd7fd"
      },
      "source": [
        "net = Net() # ネットワークをインスタンス化\n",
        "device = torch.device(\"cuda\") # GPUの設定\n",
        "net = net.to(device) # ネットワークをGPU上に展開\n",
        "criterion = nn.CrossEntropyLoss() # 損失関数の設定（ここではクロスエントロピー誤差を使用）\n",
        "# オプティマイザの設定（どのように重みの値を更新していくかを決める）\n",
        "optimizer = optim.SGD(net.parameters(),\n",
        "                      lr=LEARNING_RATE, momentum=0.99, nesterov=True)"
      ],
      "id": "506f95a2-7454-40b3-9487-9a929a0dd7fd",
      "execution_count": 134,
      "outputs": []
    },
    {
      "cell_type": "code",
      "metadata": {
        "colab": {
          "base_uri": "https://localhost:8080/"
        },
        "id": "0c9a3bda-56ee-45d4-afb5-9d859a959fe1",
        "outputId": "94526ccd-a6c1-41a8-e529-a25ab6d1bbc4"
      },
      "source": [
        "# 実際に学習を進める\n",
        "# ここのforは１回実行されるごとに１エポック分の学習が進む\n",
        "for epoch in range(EPOCHS):\n",
        "    print(\"+++ epoch {:d} +++\".format(epoch))\n",
        "\n",
        "    running_loss = 0.0\n",
        "    # ここのforは１回実行されるごとに１バッチ分のデータで学習が進む\n",
        "    for i, (inputs, labels) in enumerate(trainloader, 0):\n",
        "        inputs, labels = inputs.to(device), labels.to(device)\n",
        "        optimizer.zero_grad() # 勾配をリセットする（Tensor型は勾配が蓄積してしまうため）\n",
        "        outputs = net(inputs) # 順伝搬を行う\n",
        "        # 順伝搬結果と正解ラベルを元に損失を計算する（正解ラベルとの誤差）\n",
        "        loss = criterion(outputs, labels)\n",
        "        loss.backward() # 誤差逆伝搬を行う\n",
        "        optimizer.step() #　重みを更新\n",
        "\n",
        "        # 表示用コード\n",
        "        running_loss += loss.item()\n",
        "        if i % 100 == 99:\n",
        "            print(\"   iteration{:5d} ---> loss: {:.3f}\"\n",
        "                  .format(i+1, running_loss/100))\n",
        "            running_loss = 0.0\n",
        "    print(\"\")\n",
        "print('Finished Training')"
      ],
      "id": "0c9a3bda-56ee-45d4-afb5-9d859a959fe1",
      "execution_count": 135,
      "outputs": [
        {
          "output_type": "stream",
          "text": [
            "+++ epoch 0 +++\n",
            "   iteration  100 ---> loss: 2.191\n",
            "   iteration  200 ---> loss: 1.074\n",
            "   iteration  300 ---> loss: 0.566\n",
            "   iteration  400 ---> loss: 0.452\n",
            "   iteration  500 ---> loss: 0.384\n",
            "   iteration  600 ---> loss: 0.350\n",
            "\n",
            "+++ epoch 1 +++\n",
            "   iteration  200 ---> loss: 0.267\n",
            "   iteration  300 ---> loss: 0.237\n",
            "   iteration  400 ---> loss: 0.218\n",
            "   iteration  500 ---> loss: 0.200\n",
            "   iteration  600 ---> loss: 0.196\n",
            "\n",
            "+++ epoch 2 +++\n",
            "   iteration  100 ---> loss: 0.181\n",
            "   iteration  200 ---> loss: 0.168\n",
            "   iteration  300 ---> loss: 0.157\n",
            "   iteration  400 ---> loss: 0.159\n",
            "   iteration  500 ---> loss: 0.155\n",
            "   iteration  600 ---> loss: 0.145\n",
            "\n",
            "+++ epoch 3 +++\n",
            "   iteration  100 ---> loss: 0.132\n",
            "   iteration  200 ---> loss: 0.139\n",
            "   iteration  300 ---> loss: 0.132\n",
            "   iteration  400 ---> loss: 0.123\n",
            "   iteration  500 ---> loss: 0.125\n",
            "   iteration  600 ---> loss: 0.114\n",
            "\n",
            "+++ epoch 4 +++\n",
            "   iteration  100 ---> loss: 0.114\n",
            "   iteration  200 ---> loss: 0.113\n",
            "   iteration  300 ---> loss: 0.106\n",
            "   iteration  400 ---> loss: 0.103\n",
            "   iteration  500 ---> loss: 0.106\n",
            "   iteration  600 ---> loss: 0.110\n",
            "\n",
            "Finished Training\n"
          ],
          "name": "stdout"
        }
      ]
    },
    {
      "cell_type": "code",
      "metadata": {
        "id": "6d13fd12-796e-452e-b1ee-25998a834248",
        "colab": {
          "base_uri": "https://localhost:8080/",
          "height": 299
        },
        "outputId": "ebc7d675-0400-4ae7-8c3c-270e31ad3666"
      },
      "source": [
        "# 推論結果例を表示\n",
        "index = random.randint(0, 99) # ランダムに０から９９までの整数を取得\n",
        "test_iter = iter(testloader)\n",
        "inputs, labels = test_iter.next() # テストデータから１バッチ分のデータを取得\n",
        "inputs = inputs.to(device) # テストデータをGPUに展開\n",
        "outputs = net(inputs) # 推論を行う（順伝搬）\n",
        "_, predicted = torch.max(outputs.data, 1) # 推論結果から正解クラス（数字）を出力\n",
        "# 画像を表示\n",
        "plt.imshow(inputs[index].to('cpu').detach().numpy().copy().reshape(28, 28), cmap='gray')\n",
        "print(\"Predicted Label : \", predicted[index].item())\n",
        "print(\"GT Label : \", labels[index].item())\n"
      ],
      "id": "6d13fd12-796e-452e-b1ee-25998a834248",
      "execution_count": 140,
      "outputs": [
        {
          "output_type": "stream",
          "text": [
            "Predicted Label :  8\n",
            "GT Label :  9\n"
          ],
          "name": "stdout"
        },
        {
          "output_type": "display_data",
          "data": {
            "image/png": "[encoded data removed]",
            "text/plain": [
              "<Figure size 432x288 with 1 Axes>"
            ]
          },
          "metadata": {
            "tags": [],
            "needs_background": "light"
          }
        }
      ]
    }
  ]
}